{
 "cells": [
  {
   "cell_type": "code",
   "execution_count": 2,
   "metadata": {
    "collapsed": true
   },
   "outputs": [],
   "source": [
    "import pandas as pd\n",
    "import numpy as np\n",
    "import matplotlib.pyplot as plt\n",
    "%matplotlib inline\n",
    "from sklearn.model_selection import train_test_split\n",
    "from sklearn.preprocessing import StandardScaler\n",
    "from sklearn.preprocessing import MinMaxScaler\n",
    "from sklearn.linear_model import LinearRegression\n",
    "from sklearn.metrics import mean_squared_error\n",
    "from sklearn.pipeline import Pipeline\n",
    "from sklearn.model_selection import GridSearchCV\n",
    "from sklearn.ensemble import RandomForestRegressor"
   ]
  },
  {
   "cell_type": "markdown",
   "metadata": {},
   "source": [
    "#### предобработка данных"
   ]
  },
  {
   "cell_type": "code",
   "execution_count": 3,
   "metadata": {
    "collapsed": true
   },
   "outputs": [],
   "source": [
    "def my_preproc(frame):\n",
    "    # число комнат\n",
    "    # если число комнат = 0, делаем равным 1\n",
    "    # если число комнат > 6, делаем равным 6\n",
    "    frame.loc[ (frame[frame['Rooms'] == 0]).index, 'Rooms'] = 1\n",
    "    frame.loc[ (frame[frame['Rooms'] > 6]).index, 'Rooms'] = 6\n",
    "    \n",
    "    # выбросы жилой площади\n",
    "    # если жилая площадь больше 200, то приравниваем к общей - 1\n",
    "    frame.loc[(frame[frame['LifeSquare'] > 200]).index, 'LifeSquare'] = \\\n",
    "    frame.loc[(frame[frame['LifeSquare'] > 200]).index, 'Square'] - 1    \n",
    "    \n",
    "    # общая площадь \n",
    "    # если площадь меньше жилой площади, приравниваем к жилой + 1\n",
    "    frame.loc[(frame[frame['Square'] < frame['LifeSquare']]).index, 'Square'] = \\\n",
    "    frame.loc[(frame[frame['Square'] < frame['LifeSquare']]).index, 'LifeSquare'] + 1    \n",
    "    \n",
    "    # площадь кухни\n",
    "    # если площадь кухни больше общей площади, приравниваем к общей - 1 \n",
    "    frame.loc[(frame[frame['KitchenSquare'] > frame['Square']]).index, 'KitchenSquare'] = \\\n",
    "    frame.loc[(frame[frame['KitchenSquare'] > frame['Square']]).index, 'Square'] - 1\n",
    "    \n",
    "    # жилая площадь с NaN\n",
    "    # считаем среднюю жилую площадь на 1 комнату\n",
    "    # заполняем NaN исходя из числа комнат\n",
    "    mean_lifesqr_per_room = (frame['LifeSquare']/frame['Rooms']).median()\n",
    "    # если полученная жилая площадь больше общей, то берем общую - 1\n",
    "    def null_lifesqr_preproc(row):\n",
    "        sqr =  row['Rooms']* mean_lifesqr_per_room\n",
    "        if sqr > row['Square'] :\n",
    "            return row['Square'] - 1\n",
    "        else:\n",
    "            return sqr\n",
    "    frame.loc[frame[frame['LifeSquare'].isnull()].index, 'LifeSquare'] = \\\n",
    "    frame.loc[frame[frame['LifeSquare'].isnull()].index,:].apply(null_lifesqr_preproc, axis = 1)\n",
    "    \n",
    "    # год потройки\n",
    "    # если год больше 2020, то присваиваем 2020\n",
    "    frame.loc[ (frame[frame['HouseYear'] > 2020]).index, 'HouseYear'] = 2020\n",
    "    \n",
    "    # Healthcare_1 слишком много незаполненных значений\n",
    "    frame = frame.drop('Healthcare_1', axis = 1)\n",
    "    \n",
    "    frame['DistrictId'] = frame['DistrictId'].astype(str)\n",
    "    frame['Shops_1'] = frame['Shops_1'].astype(str)\n",
    "    frame['Helthcare_2'] = frame['Helthcare_2'].astype(str)\n",
    "    frame['Social_3'] = frame['Social_3'].astype(str)\n",
    "    \n",
    "    # разные значения в train и test в признаке DistrictId\n",
    "    frame = frame.drop('DistrictId', axis = 1)\n",
    "    \n",
    "    # часть полей содержат категориальные признаки (по типу данных или по смыслу)\n",
    "    cols_for_dummy = list()\n",
    "    #cols_for_dummy.append('DistrictId')\n",
    "    # разные значения в train и test в признаке DistrictId\n",
    "    cols_for_dummy.append('Ecology_2')\n",
    "    cols_for_dummy.append('Ecology_3')\n",
    "    cols_for_dummy.append('Social_3')\n",
    "    cols_for_dummy.append('Helthcare_2')\n",
    "    cols_for_dummy.append('Shops_1')\n",
    "    cols_for_dummy.append('Shops_2')\n",
    "    \n",
    "    # делаем для отобранных признаков one hot encoding\n",
    "    df_cat = frame[cols_for_dummy]\n",
    "    df_cat = pd.get_dummies(df_cat, drop_first = True)\n",
    "    frame = frame.drop(cols_for_dummy, axis = 1)\n",
    "    frame = pd.concat([frame, df_cat], axis = 1)\n",
    "    \n",
    "    return frame"
   ]
  },
  {
   "cell_type": "markdown",
   "metadata": {},
   "source": [
    "#### загружаем обучающую выборку"
   ]
  },
  {
   "cell_type": "code",
   "execution_count": 4,
   "metadata": {
    "collapsed": true
   },
   "outputs": [],
   "source": [
    "data = pd.read_csv('train.csv')\n",
    "df = data.copy()"
   ]
  },
  {
   "cell_type": "code",
   "execution_count": 5,
   "metadata": {
    "collapsed": true
   },
   "outputs": [],
   "source": [
    "df = my_preproc(df)"
   ]
  },
  {
   "cell_type": "code",
   "execution_count": 6,
   "metadata": {
    "collapsed": true
   },
   "outputs": [],
   "source": [
    "X = df.set_index('Id', inplace = True)\n",
    "X = df.drop('Price', axis = 1)\n",
    "y = df['Price']"
   ]
  },
  {
   "cell_type": "code",
   "execution_count": 7,
   "metadata": {
    "collapsed": true
   },
   "outputs": [],
   "source": [
    "X_train, X_test, y_train, y_test = train_test_split(X, y, test_size=0.30, random_state=42)"
   ]
  },
  {
   "cell_type": "markdown",
   "metadata": {},
   "source": [
    "#### случайный лес через подбор параметров"
   ]
  },
  {
   "cell_type": "code",
   "execution_count": 8,
   "metadata": {
    "collapsed": true
   },
   "outputs": [],
   "source": [
    "pipe = Pipeline([('scaler', StandardScaler()), ('rf',RandomForestRegressor())])"
   ]
  },
  {
   "cell_type": "code",
   "execution_count": 9,
   "metadata": {
    "collapsed": true
   },
   "outputs": [],
   "source": [
    "paramgrid = {'rf__n_estimators':[200, 250, 300, 350,  400, 450, 500, 550, 600],\n",
    "            'rf__max_depth': range(1, 31)\n",
    "            }"
   ]
  },
  {
   "cell_type": "code",
   "execution_count": null,
   "metadata": {
    "collapsed": true
   },
   "outputs": [],
   "source": [
    "cv = GridSearchCV(pipe, param_grid= paramgrid, scoring = 'r2', cv = 5)"
   ]
  },
  {
   "cell_type": "code",
   "execution_count": null,
   "metadata": {
    "collapsed": true
   },
   "outputs": [],
   "source": [
    "# работает несколько часов\n",
    "# запуск был из консоли\n",
    "%%time\n",
    "cv.fit(X_train, y_train)"
   ]
  },
  {
   "cell_type": "code",
   "execution_count": null,
   "metadata": {
    "collapsed": true
   },
   "outputs": [],
   "source": [
    "# подобранные параметры\n",
    "cv.best_params_"
   ]
  },
  {
   "cell_type": "code",
   "execution_count": null,
   "metadata": {
    "collapsed": true
   },
   "outputs": [],
   "source": [
    "# R2 на train\n",
    "cv.best_score_"
   ]
  },
  {
   "cell_type": "code",
   "execution_count": null,
   "metadata": {
    "collapsed": true
   },
   "outputs": [],
   "source": [
    "#rmse на train\n",
    "mean_squared_error(y_train, cv.predict(X_train))**0.5"
   ]
  },
  {
   "cell_type": "code",
   "execution_count": null,
   "metadata": {
    "collapsed": true
   },
   "outputs": [],
   "source": [
    "# R2 на test\n",
    "cv.score(X_test, y_test)"
   ]
  },
  {
   "cell_type": "code",
   "execution_count": null,
   "metadata": {
    "collapsed": true
   },
   "outputs": [],
   "source": [
    "#rmse на train\n",
    "mean_squared_error(y_test, cv.predict(X_test))**0.5"
   ]
  },
  {
   "cell_type": "markdown",
   "metadata": {},
   "source": [
    "#### прогноз на тестовой выборке"
   ]
  },
  {
   "cell_type": "code",
   "execution_count": null,
   "metadata": {
    "collapsed": true
   },
   "outputs": [],
   "source": [
    "df_test = pd.read_csv('test.csv')"
   ]
  },
  {
   "cell_type": "code",
   "execution_count": null,
   "metadata": {
    "collapsed": true
   },
   "outputs": [],
   "source": [
    "df_test = my_preproc(df_test)"
   ]
  },
  {
   "cell_type": "code",
   "execution_count": null,
   "metadata": {
    "collapsed": true
   },
   "outputs": [],
   "source": [
    "test_id = df_test['Id']"
   ]
  },
  {
   "cell_type": "code",
   "execution_count": null,
   "metadata": {
    "collapsed": true
   },
   "outputs": [],
   "source": [
    "test_id.shape"
   ]
  },
  {
   "cell_type": "code",
   "execution_count": null,
   "metadata": {
    "collapsed": true
   },
   "outputs": [],
   "source": [
    "df_test = df_test.drop('Id', axis = 1)"
   ]
  },
  {
   "cell_type": "code",
   "execution_count": null,
   "metadata": {
    "collapsed": true
   },
   "outputs": [],
   "source": [
    "X_train.shape"
   ]
  },
  {
   "cell_type": "code",
   "execution_count": null,
   "metadata": {
    "collapsed": true
   },
   "outputs": [],
   "source": [
    "X_test.shape"
   ]
  },
  {
   "cell_type": "code",
   "execution_count": null,
   "metadata": {
    "collapsed": true
   },
   "outputs": [],
   "source": [
    "df_test.shape"
   ]
  },
  {
   "cell_type": "code",
   "execution_count": null,
   "metadata": {
    "collapsed": true
   },
   "outputs": [],
   "source": [
    "set1 = set(X_train.columns)"
   ]
  },
  {
   "cell_type": "code",
   "execution_count": null,
   "metadata": {
    "collapsed": true
   },
   "outputs": [],
   "source": [
    "set2 = set(df_test.columns)"
   ]
  },
  {
   "cell_type": "code",
   "execution_count": null,
   "metadata": {
    "collapsed": true
   },
   "outputs": [],
   "source": [
    "set2 - set1"
   ]
  },
  {
   "cell_type": "code",
   "execution_count": null,
   "metadata": {
    "collapsed": true
   },
   "outputs": [],
   "source": [
    "set1 - set2"
   ]
  },
  {
   "cell_type": "code",
   "execution_count": null,
   "metadata": {
    "collapsed": true
   },
   "outputs": [],
   "source": [
    "y_pred = cv.predict(df_test)"
   ]
  },
  {
   "cell_type": "code",
   "execution_count": null,
   "metadata": {
    "collapsed": true
   },
   "outputs": [],
   "source": [
    "y_pred.shape"
   ]
  },
  {
   "cell_type": "code",
   "execution_count": null,
   "metadata": {
    "collapsed": true
   },
   "outputs": [],
   "source": [
    "result = pd.DataFrame(data = y_pred, index = test_id.values, columns= ['Price'])"
   ]
  },
  {
   "cell_type": "code",
   "execution_count": null,
   "metadata": {
    "collapsed": true
   },
   "outputs": [],
   "source": [
    "result.reset_index(inplace= True)"
   ]
  },
  {
   "cell_type": "code",
   "execution_count": null,
   "metadata": {
    "collapsed": true
   },
   "outputs": [],
   "source": [
    "result.columns = ['Id','Price']"
   ]
  },
  {
   "cell_type": "code",
   "execution_count": null,
   "metadata": {
    "collapsed": true
   },
   "outputs": [],
   "source": [
    "result.to_csv('SVorobyov_predictions.csv', index = False)"
   ]
  },
  {
   "cell_type": "code",
   "execution_count": null,
   "metadata": {
    "collapsed": true
   },
   "outputs": [],
   "source": []
  }
 ],
 "metadata": {
  "kernelspec": {
   "display_name": "Python 3",
   "language": "python",
   "name": "python3"
  },
  "language_info": {
   "codemirror_mode": {
    "name": "ipython",
    "version": 3
   },
   "file_extension": ".py",
   "mimetype": "text/x-python",
   "name": "python",
   "nbconvert_exporter": "python",
   "pygments_lexer": "ipython3",
   "version": "3.6.2"
  }
 },
 "nbformat": 4,
 "nbformat_minor": 2
}
